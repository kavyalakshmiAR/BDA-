{
  "nbformat": 4,
  "nbformat_minor": 0,
  "metadata": {
    "colab": {
      "provenance": [],
      "authorship_tag": "ABX9TyPo2/d+iXxKH3k9LsnNWjJ3",
      "include_colab_link": true
    },
    "kernelspec": {
      "name": "python3",
      "display_name": "Python 3"
    },
    "language_info": {
      "name": "python"
    }
  },
  "cells": [
    {
      "cell_type": "markdown",
      "metadata": {
        "id": "view-in-github",
        "colab_type": "text"
      },
      "source": [
        "<a href=\"https://colab.research.google.com/github/kavyalakshmiAR/BDA-/blob/main/Healthcare_Data_Analysis.ipynb\" target=\"_parent\"><img src=\"https://colab.research.google.com/assets/colab-badge.svg\" alt=\"Open In Colab\"/></a>"
      ]
    },
    {
      "cell_type": "code",
      "source": [
        "!pip install minisom"
      ],
      "metadata": {
        "colab": {
          "base_uri": "https://localhost:8080/"
        },
        "id": "LFqIaIRmbA6o",
        "outputId": "aaa97029-6f3e-478e-e943-91064295baff"
      },
      "execution_count": 43,
      "outputs": [
        {
          "output_type": "stream",
          "name": "stdout",
          "text": [
            "Requirement already satisfied: minisom in /usr/local/lib/python3.10/dist-packages (2.3.3)\n"
          ]
        }
      ]
    },
    {
      "cell_type": "code",
      "source": [
        "from google.colab import files\n",
        "files.upload()"
      ],
      "metadata": {
        "colab": {
          "base_uri": "https://localhost:8080/",
          "height": 90
        },
        "id": "dvjGOOoTbH1H",
        "outputId": "bb33abdb-29e8-42d6-b07f-721569beb046"
      },
      "execution_count": 44,
      "outputs": [
        {
          "output_type": "display_data",
          "data": {
            "text/plain": [
              "<IPython.core.display.HTML object>"
            ],
            "text/html": [
              "\n",
              "     <input type=\"file\" id=\"files-b023007b-89d0-4c92-b49d-2339d17450fa\" name=\"files[]\" multiple disabled\n",
              "        style=\"border:none\" />\n",
              "     <output id=\"result-b023007b-89d0-4c92-b49d-2339d17450fa\">\n",
              "      Upload widget is only available when the cell has been executed in the\n",
              "      current browser session. Please rerun this cell to enable.\n",
              "      </output>\n",
              "      <script>// Copyright 2017 Google LLC\n",
              "//\n",
              "// Licensed under the Apache License, Version 2.0 (the \"License\");\n",
              "// you may not use this file except in compliance with the License.\n",
              "// You may obtain a copy of the License at\n",
              "//\n",
              "//      http://www.apache.org/licenses/LICENSE-2.0\n",
              "//\n",
              "// Unless required by applicable law or agreed to in writing, software\n",
              "// distributed under the License is distributed on an \"AS IS\" BASIS,\n",
              "// WITHOUT WARRANTIES OR CONDITIONS OF ANY KIND, either express or implied.\n",
              "// See the License for the specific language governing permissions and\n",
              "// limitations under the License.\n",
              "\n",
              "/**\n",
              " * @fileoverview Helpers for google.colab Python module.\n",
              " */\n",
              "(function(scope) {\n",
              "function span(text, styleAttributes = {}) {\n",
              "  const element = document.createElement('span');\n",
              "  element.textContent = text;\n",
              "  for (const key of Object.keys(styleAttributes)) {\n",
              "    element.style[key] = styleAttributes[key];\n",
              "  }\n",
              "  return element;\n",
              "}\n",
              "\n",
              "// Max number of bytes which will be uploaded at a time.\n",
              "const MAX_PAYLOAD_SIZE = 100 * 1024;\n",
              "\n",
              "function _uploadFiles(inputId, outputId) {\n",
              "  const steps = uploadFilesStep(inputId, outputId);\n",
              "  const outputElement = document.getElementById(outputId);\n",
              "  // Cache steps on the outputElement to make it available for the next call\n",
              "  // to uploadFilesContinue from Python.\n",
              "  outputElement.steps = steps;\n",
              "\n",
              "  return _uploadFilesContinue(outputId);\n",
              "}\n",
              "\n",
              "// This is roughly an async generator (not supported in the browser yet),\n",
              "// where there are multiple asynchronous steps and the Python side is going\n",
              "// to poll for completion of each step.\n",
              "// This uses a Promise to block the python side on completion of each step,\n",
              "// then passes the result of the previous step as the input to the next step.\n",
              "function _uploadFilesContinue(outputId) {\n",
              "  const outputElement = document.getElementById(outputId);\n",
              "  const steps = outputElement.steps;\n",
              "\n",
              "  const next = steps.next(outputElement.lastPromiseValue);\n",
              "  return Promise.resolve(next.value.promise).then((value) => {\n",
              "    // Cache the last promise value to make it available to the next\n",
              "    // step of the generator.\n",
              "    outputElement.lastPromiseValue = value;\n",
              "    return next.value.response;\n",
              "  });\n",
              "}\n",
              "\n",
              "/**\n",
              " * Generator function which is called between each async step of the upload\n",
              " * process.\n",
              " * @param {string} inputId Element ID of the input file picker element.\n",
              " * @param {string} outputId Element ID of the output display.\n",
              " * @return {!Iterable<!Object>} Iterable of next steps.\n",
              " */\n",
              "function* uploadFilesStep(inputId, outputId) {\n",
              "  const inputElement = document.getElementById(inputId);\n",
              "  inputElement.disabled = false;\n",
              "\n",
              "  const outputElement = document.getElementById(outputId);\n",
              "  outputElement.innerHTML = '';\n",
              "\n",
              "  const pickedPromise = new Promise((resolve) => {\n",
              "    inputElement.addEventListener('change', (e) => {\n",
              "      resolve(e.target.files);\n",
              "    });\n",
              "  });\n",
              "\n",
              "  const cancel = document.createElement('button');\n",
              "  inputElement.parentElement.appendChild(cancel);\n",
              "  cancel.textContent = 'Cancel upload';\n",
              "  const cancelPromise = new Promise((resolve) => {\n",
              "    cancel.onclick = () => {\n",
              "      resolve(null);\n",
              "    };\n",
              "  });\n",
              "\n",
              "  // Wait for the user to pick the files.\n",
              "  const files = yield {\n",
              "    promise: Promise.race([pickedPromise, cancelPromise]),\n",
              "    response: {\n",
              "      action: 'starting',\n",
              "    }\n",
              "  };\n",
              "\n",
              "  cancel.remove();\n",
              "\n",
              "  // Disable the input element since further picks are not allowed.\n",
              "  inputElement.disabled = true;\n",
              "\n",
              "  if (!files) {\n",
              "    return {\n",
              "      response: {\n",
              "        action: 'complete',\n",
              "      }\n",
              "    };\n",
              "  }\n",
              "\n",
              "  for (const file of files) {\n",
              "    const li = document.createElement('li');\n",
              "    li.append(span(file.name, {fontWeight: 'bold'}));\n",
              "    li.append(span(\n",
              "        `(${file.type || 'n/a'}) - ${file.size} bytes, ` +\n",
              "        `last modified: ${\n",
              "            file.lastModifiedDate ? file.lastModifiedDate.toLocaleDateString() :\n",
              "                                    'n/a'} - `));\n",
              "    const percent = span('0% done');\n",
              "    li.appendChild(percent);\n",
              "\n",
              "    outputElement.appendChild(li);\n",
              "\n",
              "    const fileDataPromise = new Promise((resolve) => {\n",
              "      const reader = new FileReader();\n",
              "      reader.onload = (e) => {\n",
              "        resolve(e.target.result);\n",
              "      };\n",
              "      reader.readAsArrayBuffer(file);\n",
              "    });\n",
              "    // Wait for the data to be ready.\n",
              "    let fileData = yield {\n",
              "      promise: fileDataPromise,\n",
              "      response: {\n",
              "        action: 'continue',\n",
              "      }\n",
              "    };\n",
              "\n",
              "    // Use a chunked sending to avoid message size limits. See b/62115660.\n",
              "    let position = 0;\n",
              "    do {\n",
              "      const length = Math.min(fileData.byteLength - position, MAX_PAYLOAD_SIZE);\n",
              "      const chunk = new Uint8Array(fileData, position, length);\n",
              "      position += length;\n",
              "\n",
              "      const base64 = btoa(String.fromCharCode.apply(null, chunk));\n",
              "      yield {\n",
              "        response: {\n",
              "          action: 'append',\n",
              "          file: file.name,\n",
              "          data: base64,\n",
              "        },\n",
              "      };\n",
              "\n",
              "      let percentDone = fileData.byteLength === 0 ?\n",
              "          100 :\n",
              "          Math.round((position / fileData.byteLength) * 100);\n",
              "      percent.textContent = `${percentDone}% done`;\n",
              "\n",
              "    } while (position < fileData.byteLength);\n",
              "  }\n",
              "\n",
              "  // All done.\n",
              "  yield {\n",
              "    response: {\n",
              "      action: 'complete',\n",
              "    }\n",
              "  };\n",
              "}\n",
              "\n",
              "scope.google = scope.google || {};\n",
              "scope.google.colab = scope.google.colab || {};\n",
              "scope.google.colab._files = {\n",
              "  _uploadFiles,\n",
              "  _uploadFilesContinue,\n",
              "};\n",
              "})(self);\n",
              "</script> "
            ]
          },
          "metadata": {}
        },
        {
          "output_type": "stream",
          "name": "stdout",
          "text": [
            "Saving kaggle.json to kaggle (4).json\n"
          ]
        },
        {
          "output_type": "execute_result",
          "data": {
            "text/plain": [
              "{'kaggle (4).json': b'{\"username\":\"cyberwarriyo\",\"key\":\"59da4fa34fc1af3ed483c2143998be05\"}'}"
            ]
          },
          "metadata": {},
          "execution_count": 44
        }
      ]
    },
    {
      "cell_type": "code",
      "source": [
        "!chmod 600 /content/kaggle.json"
      ],
      "metadata": {
        "id": "KZZtREY_bKvF"
      },
      "execution_count": 45,
      "outputs": []
    },
    {
      "cell_type": "code",
      "source": [
        "import os\n",
        "os.environ['KAGGLE_CONFIG_DIR'] = \"/content/\""
      ],
      "metadata": {
        "id": "9zUzZQs5bPsm"
      },
      "execution_count": 46,
      "outputs": []
    },
    {
      "cell_type": "code",
      "source": [
        "!kaggle datasets download -d uciml/breast-cancer-wisconsin-data"
      ],
      "metadata": {
        "colab": {
          "base_uri": "https://localhost:8080/"
        },
        "id": "04hpjHHWbsnK",
        "outputId": "b9a01c73-183e-4415-930e-53bac0b799ea"
      },
      "execution_count": 49,
      "outputs": [
        {
          "output_type": "stream",
          "name": "stdout",
          "text": [
            "Dataset URL: https://www.kaggle.com/datasets/uciml/breast-cancer-wisconsin-data\n",
            "License(s): CC-BY-NC-SA-4.0\n",
            "breast-cancer-wisconsin-data.zip: Skipping, found more recently modified local copy (use --force to force download)\n"
          ]
        }
      ]
    },
    {
      "cell_type": "code",
      "source": [
        "!unzip breast-cancer-wisconsin-data.zip"
      ],
      "metadata": {
        "colab": {
          "base_uri": "https://localhost:8080/"
        },
        "id": "6rnA4t3dbw7k",
        "outputId": "a11bef24-e9d3-4a5b-993b-17a3c30fbd0d"
      },
      "execution_count": 51,
      "outputs": [
        {
          "output_type": "stream",
          "name": "stdout",
          "text": [
            "Archive:  breast-cancer-wisconsin-data.zip\n",
            "replace data.csv? [y]es, [n]o, [A]ll, [N]one, [r]ename: "
          ]
        }
      ]
    },
    {
      "cell_type": "code",
      "source": [
        "df = pd.read_csv('data.csv')\n",
        "print(df.head())"
      ],
      "metadata": {
        "colab": {
          "base_uri": "https://localhost:8080/"
        },
        "id": "s8kI87Zlczyp",
        "outputId": "4237e847-345c-4396-9791-987ad860824f"
      },
      "execution_count": 52,
      "outputs": [
        {
          "output_type": "stream",
          "name": "stdout",
          "text": [
            "         id diagnosis  radius_mean  texture_mean  perimeter_mean  area_mean  \\\n",
            "0    842302         M        17.99         10.38          122.80     1001.0   \n",
            "1    842517         M        20.57         17.77          132.90     1326.0   \n",
            "2  84300903         M        19.69         21.25          130.00     1203.0   \n",
            "3  84348301         M        11.42         20.38           77.58      386.1   \n",
            "4  84358402         M        20.29         14.34          135.10     1297.0   \n",
            "\n",
            "   smoothness_mean  compactness_mean  concavity_mean  concave points_mean  \\\n",
            "0          0.11840           0.27760          0.3001              0.14710   \n",
            "1          0.08474           0.07864          0.0869              0.07017   \n",
            "2          0.10960           0.15990          0.1974              0.12790   \n",
            "3          0.14250           0.28390          0.2414              0.10520   \n",
            "4          0.10030           0.13280          0.1980              0.10430   \n",
            "\n",
            "   ...  texture_worst  perimeter_worst  area_worst  smoothness_worst  \\\n",
            "0  ...          17.33           184.60      2019.0            0.1622   \n",
            "1  ...          23.41           158.80      1956.0            0.1238   \n",
            "2  ...          25.53           152.50      1709.0            0.1444   \n",
            "3  ...          26.50            98.87       567.7            0.2098   \n",
            "4  ...          16.67           152.20      1575.0            0.1374   \n",
            "\n",
            "   compactness_worst  concavity_worst  concave points_worst  symmetry_worst  \\\n",
            "0             0.6656           0.7119                0.2654          0.4601   \n",
            "1             0.1866           0.2416                0.1860          0.2750   \n",
            "2             0.4245           0.4504                0.2430          0.3613   \n",
            "3             0.8663           0.6869                0.2575          0.6638   \n",
            "4             0.2050           0.4000                0.1625          0.2364   \n",
            "\n",
            "   fractal_dimension_worst  Unnamed: 32  \n",
            "0                  0.11890          NaN  \n",
            "1                  0.08902          NaN  \n",
            "2                  0.08758          NaN  \n",
            "3                  0.17300          NaN  \n",
            "4                  0.07678          NaN  \n",
            "\n",
            "[5 rows x 33 columns]\n"
          ]
        }
      ]
    },
    {
      "cell_type": "code",
      "source": [
        "df = df.drop(['Unnamed: 32', 'id'], axis=1)\n",
        "df['diagnosis'] = df['diagnosis'].map({'M': 1, 'B': 0})"
      ],
      "metadata": {
        "id": "gAQt7akQc62m"
      },
      "execution_count": 53,
      "outputs": []
    },
    {
      "cell_type": "code",
      "source": [
        "X = df.drop('diagnosis', axis=1)\n",
        "y = df['diagnosis']\n",
        "from sklearn.preprocessing import MinMaxScaler\n",
        "scaler = MinMaxScaler()\n",
        "X_normalized = scaler.fit_transform(X)\n",
        "df_normalized = pd.DataFrame(X_normalized, columns=X.columns)\n",
        "df_normalized['diagnosis'] = y.values\n",
        "print(df_normalized.head())"
      ],
      "metadata": {
        "colab": {
          "base_uri": "https://localhost:8080/"
        },
        "id": "394TGNWudBs_",
        "outputId": "c95c56ba-2652-4bd5-8f28-b9df299e96fb"
      },
      "execution_count": 54,
      "outputs": [
        {
          "output_type": "stream",
          "name": "stdout",
          "text": [
            "   radius_mean  texture_mean  perimeter_mean  area_mean  smoothness_mean  \\\n",
            "0     0.521037      0.022658        0.545989   0.363733         0.593753   \n",
            "1     0.643144      0.272574        0.615783   0.501591         0.289880   \n",
            "2     0.601496      0.390260        0.595743   0.449417         0.514309   \n",
            "3     0.210090      0.360839        0.233501   0.102906         0.811321   \n",
            "4     0.629893      0.156578        0.630986   0.489290         0.430351   \n",
            "\n",
            "   compactness_mean  concavity_mean  concave points_mean  symmetry_mean  \\\n",
            "0          0.792037        0.703140             0.731113       0.686364   \n",
            "1          0.181768        0.203608             0.348757       0.379798   \n",
            "2          0.431017        0.462512             0.635686       0.509596   \n",
            "3          0.811361        0.565604             0.522863       0.776263   \n",
            "4          0.347893        0.463918             0.518390       0.378283   \n",
            "\n",
            "   fractal_dimension_mean  ...  texture_worst  perimeter_worst  area_worst  \\\n",
            "0                0.605518  ...       0.141525         0.668310    0.450698   \n",
            "1                0.141323  ...       0.303571         0.539818    0.435214   \n",
            "2                0.211247  ...       0.360075         0.508442    0.374508   \n",
            "3                1.000000  ...       0.385928         0.241347    0.094008   \n",
            "4                0.186816  ...       0.123934         0.506948    0.341575   \n",
            "\n",
            "   smoothness_worst  compactness_worst  concavity_worst  concave points_worst  \\\n",
            "0          0.601136           0.619292         0.568610              0.912027   \n",
            "1          0.347553           0.154563         0.192971              0.639175   \n",
            "2          0.483590           0.385375         0.359744              0.835052   \n",
            "3          0.915472           0.814012         0.548642              0.884880   \n",
            "4          0.437364           0.172415         0.319489              0.558419   \n",
            "\n",
            "   symmetry_worst  fractal_dimension_worst  diagnosis  \n",
            "0        0.598462                 0.418864          1  \n",
            "1        0.233590                 0.222878          1  \n",
            "2        0.403706                 0.213433          1  \n",
            "3        1.000000                 0.773711          1  \n",
            "4        0.157500                 0.142595          1  \n",
            "\n",
            "[5 rows x 31 columns]\n"
          ]
        }
      ]
    },
    {
      "cell_type": "code",
      "source": [
        "from minisom import MiniSom\n",
        "import numpy as np\n",
        "import matplotlib.pyplot as plt\n",
        "som_dim = 7\n",
        "som = MiniSom(som_dim, som_dim, X_normalized.shape[1], sigma=0.5, learning_rate=0.5)\n",
        "som.random_weights_init(X_normalized)\n",
        "num_epochs = 100\n",
        "som.train(X_normalized, num_epochs)"
      ],
      "metadata": {
        "id": "1jqZZpUfdKBe"
      },
      "execution_count": 55,
      "outputs": []
    },
    {
      "cell_type": "code",
      "source": [
        "plt.figure(figsize=(10, 8))\n",
        "for i in range(len(X_normalized)):\n",
        "    w = som.winner(X_normalized[i])\n",
        "    plt.text(w[0] + 0.5, w[1] + 0.5, str(int(y.iloc[i])),\n",
        "             color='red' if y.iloc[i] == 1 else 'blue',\n",
        "             fontsize=10, ha='center', va='center')\n",
        "\n",
        "plt.xlim(0, som_dim)\n",
        "plt.ylim(0, som_dim)\n",
        "plt.title('Self-Organizing Map for Breast Cancer Dataset')\n",
        "plt.xlabel('SOM X-axis')\n",
        "plt.ylabel('SOM Y-axis')\n",
        "plt.grid()\n",
        "plt.show()"
      ],
      "metadata": {
        "colab": {
          "base_uri": "https://localhost:8080/",
          "height": 718
        },
        "id": "6JZQEi8jdV8d",
        "outputId": "1a1e4460-de33-4206-89fd-067787535b75"
      },
      "execution_count": 56,
      "outputs": [
        {
          "output_type": "display_data",
          "data": {
            "text/plain": [
              "<Figure size 1000x800 with 1 Axes>"
            ],
            "image/png": "[encoded data removed]"
          },
          "metadata": {}
        }
      ]
    },
    {
      "cell_type": "code",
      "source": [
        "clusters = {}\n",
        "for i in range(som_dim):\n",
        "    for j in range(som_dim):\n",
        "        clusters[(i, j)] = []\n",
        "for i in range(len(X_normalized)):\n",
        "    w = som.winner(X_normalized[i])\n",
        "    clusters[w].append(y.iloc[i])\n",
        "node_counts = {}\n",
        "for node, values in clusters.items():\n",
        "    malignant_count = values.count(1)\n",
        "    benign_count = values.count(0)\n",
        "    node_counts[node] = (malignant_count, benign_count)\n",
        "for node, counts in node_counts.items():\n",
        "    print(f'Node {node}: Malignant = {counts[0]}, Benign = {counts[1]}')"
      ],
      "metadata": {
        "colab": {
          "base_uri": "https://localhost:8080/"
        },
        "id": "4lBjs79AdcEt",
        "outputId": "ffddb308-fcb5-4072-89a3-cd0706b39cf3"
      },
      "execution_count": 57,
      "outputs": [
        {
          "output_type": "stream",
          "name": "stdout",
          "text": [
            "Node (0, 0): Malignant = 0, Benign = 43\n",
            "Node (0, 1): Malignant = 0, Benign = 17\n",
            "Node (0, 2): Malignant = 2, Benign = 3\n",
            "Node (0, 3): Malignant = 0, Benign = 9\n",
            "Node (0, 4): Malignant = 2, Benign = 66\n",
            "Node (0, 5): Malignant = 7, Benign = 0\n",
            "Node (0, 6): Malignant = 5, Benign = 0\n",
            "Node (1, 0): Malignant = 0, Benign = 15\n",
            "Node (1, 1): Malignant = 2, Benign = 4\n",
            "Node (1, 2): Malignant = 0, Benign = 21\n",
            "Node (1, 3): Malignant = 0, Benign = 11\n",
            "Node (1, 4): Malignant = 8, Benign = 0\n",
            "Node (1, 5): Malignant = 0, Benign = 9\n",
            "Node (1, 6): Malignant = 0, Benign = 9\n",
            "Node (2, 0): Malignant = 6, Benign = 0\n",
            "Node (2, 1): Malignant = 0, Benign = 3\n",
            "Node (2, 2): Malignant = 0, Benign = 12\n",
            "Node (2, 3): Malignant = 13, Benign = 0\n",
            "Node (2, 4): Malignant = 2, Benign = 0\n",
            "Node (2, 5): Malignant = 1, Benign = 2\n",
            "Node (2, 6): Malignant = 0, Benign = 2\n",
            "Node (3, 0): Malignant = 5, Benign = 0\n",
            "Node (3, 1): Malignant = 0, Benign = 33\n",
            "Node (3, 2): Malignant = 4, Benign = 0\n",
            "Node (3, 3): Malignant = 4, Benign = 0\n",
            "Node (3, 4): Malignant = 1, Benign = 14\n",
            "Node (3, 5): Malignant = 8, Benign = 0\n",
            "Node (3, 6): Malignant = 5, Benign = 0\n",
            "Node (4, 0): Malignant = 9, Benign = 0\n",
            "Node (4, 1): Malignant = 2, Benign = 5\n",
            "Node (4, 2): Malignant = 6, Benign = 0\n",
            "Node (4, 3): Malignant = 3, Benign = 0\n",
            "Node (4, 4): Malignant = 0, Benign = 17\n",
            "Node (4, 5): Malignant = 8, Benign = 3\n",
            "Node (4, 6): Malignant = 8, Benign = 0\n",
            "Node (5, 0): Malignant = 9, Benign = 0\n",
            "Node (5, 1): Malignant = 14, Benign = 0\n",
            "Node (5, 2): Malignant = 0, Benign = 7\n",
            "Node (5, 3): Malignant = 11, Benign = 4\n",
            "Node (5, 4): Malignant = 19, Benign = 1\n",
            "Node (5, 5): Malignant = 0, Benign = 29\n",
            "Node (5, 6): Malignant = 12, Benign = 0\n",
            "Node (6, 0): Malignant = 2, Benign = 6\n",
            "Node (6, 1): Malignant = 2, Benign = 1\n",
            "Node (6, 2): Malignant = 7, Benign = 0\n",
            "Node (6, 3): Malignant = 11, Benign = 0\n",
            "Node (6, 4): Malignant = 10, Benign = 0\n",
            "Node (6, 5): Malignant = 0, Benign = 11\n",
            "Node (6, 6): Malignant = 4, Benign = 0\n"
          ]
        }
      ]
    },
    {
      "cell_type": "code",
      "source": [
        "heatmap_data = np.zeros((som_dim, som_dim, 2))\n",
        "for node, counts in node_counts.items():\n",
        "    heatmap_data[node[0], node[1], 0] = counts[0]\n",
        "    heatmap_data[node[0], node[1], 1] = counts[1]\n",
        "fig, ax = plt.subplots(1, 2, figsize=(12, 6))\n",
        "ax[0].imshow(heatmap_data[:, :, 0], cmap='Reds', alpha=0.7)\n",
        "ax[0].set_title('Malignant Cases Heatmap')\n",
        "ax[0].set_xlabel('SOM X-axis')\n",
        "ax[0].set_ylabel('SOM Y-axis')\n",
        "ax[0].set_xticks(range(som_dim))\n",
        "ax[0].set_yticks(range(som_dim))\n",
        "ax[1].imshow(heatmap_data[:, :, 1], cmap='Blues', alpha=0.7)\n",
        "ax[1].set_title('Benign Cases Heatmap')\n",
        "ax[1].set_xlabel('SOM X-axis')\n",
        "ax[1].set_ylabel('SOM Y-axis')\n",
        "ax[1].set_xticks(range(som_dim))\n",
        "ax[1].set_yticks(range(som_dim))\n",
        "plt.colorbar(ax[0].imshow(heatmap_data[:, :, 0], cmap='Reds'), ax=ax[0])\n",
        "plt.colorbar(ax[1].imshow(heatmap_data[:, :, 1], cmap='Blues'), ax=ax[1])\n",
        "plt.show()"
      ],
      "metadata": {
        "colab": {
          "base_uri": "https://localhost:8080/",
          "height": 448
        },
        "id": "_WofNBzTduFA",
        "outputId": "e0a460f9-c6b1-451e-cb4f-8b27fa2b1dda"
      },
      "execution_count": 58,
      "outputs": [
        {
          "output_type": "display_data",
          "data": {
            "text/plain": [
              "<Figure size 1200x600 with 4 Axes>"
            ],
            "image/png": "[encoded data removed]"
          },
          "metadata": {}
        }
      ]
    },
    {
      "cell_type": "code",
      "source": [
        "som_output = np.zeros((len(X_normalized), 2))\n",
        "for i in range(len(X_normalized)):\n",
        "    som_output[i] = som.winner(X_normalized[i])\n",
        "som_df = pd.DataFrame(som_output, columns=['SOM_X', 'SOM_Y'])\n",
        "som_df['diagnosis'] = y.values\n",
        "from sklearn.model_selection import train_test_split\n",
        "from sklearn.tree import DecisionTreeClassifier\n",
        "from sklearn.metrics import classification_report, confusion_matrix\n",
        "X_train, X_test, y_train, y_test = train_test_split(som_df[['SOM_X', 'SOM_Y']], som_df['diagnosis'], test_size=0.3, random_state=42)\n",
        "clf = DecisionTreeClassifier(random_state=42)\n",
        "clf.fit(X_train, y_train)\n",
        "y_pred = clf.predict(X_test)\n",
        "print(\"Confusion Matrix:\")\n",
        "print(confusion_matrix(y_test, y_pred))\n",
        "print(\"\\nClassification Report:\")\n",
        "print(classification_report(y_test, y_pred))\n"
      ],
      "metadata": {
        "colab": {
          "base_uri": "https://localhost:8080/"
        },
        "id": "lrVf6CDseBh-",
        "outputId": "7379289d-9390-4063-bf71-87c3a0e11331"
      },
      "execution_count": 59,
      "outputs": [
        {
          "output_type": "stream",
          "name": "stdout",
          "text": [
            "Confusion Matrix:\n",
            "[[104   4]\n",
            " [  2  61]]\n",
            "\n",
            "Classification Report:\n",
            "              precision    recall  f1-score   support\n",
            "\n",
            "           0       0.98      0.96      0.97       108\n",
            "           1       0.94      0.97      0.95        63\n",
            "\n",
            "    accuracy                           0.96       171\n",
            "   macro avg       0.96      0.97      0.96       171\n",
            "weighted avg       0.97      0.96      0.97       171\n",
            "\n"
          ]
        }
      ]
    }
  ]
}